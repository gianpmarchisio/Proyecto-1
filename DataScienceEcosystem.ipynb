{
  "metadata": {
    "kernelspec": {
      "name": "python",
      "display_name": "Python (Pyodide)",
      "language": "python"
    },
    "language_info": {
      "codemirror_mode": {
        "name": "python",
        "version": 3
      },
      "file_extension": ".py",
      "mimetype": "text/x-python",
      "name": "python",
      "nbconvert_exporter": "python",
      "pygments_lexer": "ipython3",
      "version": "3.8"
    }
  },
  "nbformat_minor": 5,
  "nbformat": 4,
  "cells": [
    {
      "id": "4a25ac82-3db0-4fcc-8b5b-e3d4385be3a5",
      "cell_type": "markdown",
      "source": "# Data Science Tools and Ecosystem",
      "metadata": {}
    },
    {
      "id": "c4022a74-f680-4b5e-9c36-86885c593295",
      "cell_type": "markdown",
      "source": "En este cuaderno, se resumen las herramientas y ecosistemas de ciencia de datos.",
      "metadata": {}
    },
    {
      "id": "78f6ea3e-b0ff-4abf-9262-cc56391032ba",
      "cell_type": "markdown",
      "source": "__Objetivos:__\n* Listar Lenguajes de Programación utilizados en la ciencia de datos\n* Listar las bibliotecas comunmente utilizadas en la ciencia de datos\n* Ejemplificar operaciones aritmeticas con Python",
      "metadata": {}
    },
    {
      "id": "086cc6e9-a283-462d-94ca-3cd17be8a7f8",
      "cell_type": "markdown",
      "source": "Algunos de los lenguajes populares que utilizan los científicos de datos son:\n\n1. Python\n2. R\n3. Scala\n4. Java\n\n   ",
      "metadata": {}
    },
    {
      "id": "269a401f-d0a1-45d9-8352-ef81bcb34160",
      "cell_type": "markdown",
      "source": "Algunas de las bibliotecas comúnmente utilizadas por los científicos de datos incluyen:\n\n1. Matplotlib\n2. Pandas\n3. NumPy\n4. Scikit-learn",
      "metadata": {}
    },
    {
      "id": "a4322884-4d1f-45a2-bacc-dabfcbd34a9f",
      "cell_type": "markdown",
      "source": "|Herramientas de Ciencia de Datos|\n|--------------------------------|\n|Python|\n|Jupyter|\n|Apache Spark|",
      "metadata": {}
    },
    {
      "id": "7052b6d1-e176-485a-ab4b-08d0b2e27faa",
      "cell_type": "markdown",
      "source": "A continuación, se presentan algunos ejemplos de evaluación de expresiones aritméticas en Python",
      "metadata": {}
    },
    {
      "id": "cd0ce10c-ced5-4e12-a5a7-cb1a2c0c429d",
      "cell_type": "code",
      "source": "#Esta es una expresión aritmética simple para multiplicar y luego sumar enteros\n(3*4)+5",
      "metadata": {
        "trusted": true
      },
      "outputs": [
        {
          "execution_count": 3,
          "output_type": "execute_result",
          "data": {
            "text/plain": "17"
          },
          "metadata": {}
        }
      ],
      "execution_count": 3
    },
    {
      "id": "c33a82fa-d079-411d-a094-f4af95d24049",
      "cell_type": "code",
      "source": "#Esto convertirá 200 minutos a horas dividiendo por 60\n200/60",
      "metadata": {
        "trusted": true
      },
      "outputs": [
        {
          "execution_count": 4,
          "output_type": "execute_result",
          "data": {
            "text/plain": "3.3333333333333335"
          },
          "metadata": {}
        }
      ],
      "execution_count": 4
    },
    {
      "id": "9232e1ec-eb5f-4332-ad6e-57497e58d619",
      "cell_type": "markdown",
      "source": "\n## Autor\nGian Marchisio",
      "metadata": {}
    },
    {
      "id": "408c1de3-6be9-4aa3-8dbf-12c4b02aa72d",
      "cell_type": "code",
      "source": "",
      "metadata": {
        "trusted": true
      },
      "outputs": [],
      "execution_count": null
    }
  ]
}